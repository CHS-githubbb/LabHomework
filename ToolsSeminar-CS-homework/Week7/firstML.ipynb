{
 "cells": [
  {
   "cell_type": "code",
   "execution_count": 1,
   "metadata": {},
   "outputs": [],
   "source": [
    "import numpy as np\n",
    "import pandas as pd"
   ]
  },
  {
   "cell_type": "code",
   "execution_count": 2,
   "metadata": {},
   "outputs": [],
   "source": [
    "def data_processing(data):\n",
    "    #replace all \"?\" with NAN\n",
    "    data.replace(\" ?\", np.nan, inplace=True)\n",
    "    modes = data.mode().iloc[0]\n",
    "    data.fillna(modes, inplace=True)\n",
    "    \n",
    "    #abstract income from data\n",
    "    income = data['income_per_year']\n",
    "    data.drop(['income_per_year'], axis=1, inplace=True)\n",
    "    \n",
    "    #one-hot-coding for data\n",
    "    cat_attrs = [attr for attr in data if type(data[attr][0]) is str and not (data[attr][0]).isdigit()]\n",
    "    \n",
    "    for cat_attr in cat_attrs:\n",
    "        data[cat_attr] = pd.Categorical(data[cat_attr])\n",
    "        dummies = pd.get_dummies(data[cat_attr], prefix='{}_category'.format(cat_attr))\n",
    "        data = pd.concat([data, dummies], axis=1)\n",
    "\n",
    "    data.drop(cat_attrs,axis=1,inplace=True)\n",
    "    \n",
    "    \n",
    "    #one-hot-coding for income\n",
    "    income = pd.Categorical(income)\n",
    "    income_dummy = pd.get_dummies(income)\n",
    "    todrop = \" >50K\"\n",
    "    income_dummy.drop(todrop, axis=1, inplace=True)\n",
    "    \n",
    "    return data, income_dummy"
   ]
  },
  {
   "cell_type": "code",
   "execution_count": 3,
   "metadata": {},
   "outputs": [],
   "source": [
    "attr = [\"age\",\n",
    "        \"workclass\",\n",
    "        \"fnlwgt\",\n",
    "        \"education\",\n",
    "        \"education-num\",\n",
    "        \"marital-status\",\n",
    "        \"occupation\",\n",
    "        \"relationship\",\n",
    "        \"race\",\n",
    "        \"sex\",\n",
    "        \"capital-gain\",\n",
    "        \"capital-loss\",\n",
    "        \"hours-per-week\",\n",
    "        \"native-country\",\n",
    "        \"income_per_year\"]\n",
    "\n",
    "data = pd.read_csv(\"dataset/adult.data\", names=attr)"
   ]
  },
  {
   "cell_type": "code",
   "execution_count": 4,
   "metadata": {},
   "outputs": [],
   "source": [
    "data, income = data_processing(data)"
   ]
  },
  {
   "cell_type": "code",
   "execution_count": 5,
   "metadata": {},
   "outputs": [],
   "source": [
    "from sklearn.preprocessing import StandardScaler\n",
    "\n",
    "scaler = StandardScaler().fit(data)\n",
    "X = scaler.transform(data)\n",
    "Y = income\n",
    "\n",
    "split = 32651 #size of the training data\n",
    "\n",
    "X_train = X[:split]\n",
    "X_test = X[split:]\n",
    "\n",
    "Y_train = Y[:split]\n",
    "Y_test = Y[split:]"
   ]
  },
  {
   "cell_type": "code",
   "execution_count": 6,
   "metadata": {},
   "outputs": [
    {
     "name": "stderr",
     "output_type": "stream",
     "text": [
      "D:\\Downloads\\Anaconda3\\lib\\site-packages\\sklearn\\ensemble\\weight_boosting.py:29: DeprecationWarning: numpy.core.umath_tests is an internal NumPy module and should not be imported. It will be removed in a future NumPy release.\n",
      "  from numpy.core.umath_tests import inner1d\n"
     ]
    }
   ],
   "source": [
    "#evaluation\n",
    "from sklearn.linear_model import LogisticRegression\n",
    "from sklearn.ensemble import RandomForestClassifier\n",
    "from sklearn.tree import DecisionTreeClassifier\n",
    "from sklearn.neural_network import MLPClassifier\n",
    "\n",
    "from sklearn.metrics import accuracy_score"
   ]
  },
  {
   "cell_type": "code",
   "execution_count": 7,
   "metadata": {},
   "outputs": [
    {
     "name": "stdout",
     "output_type": "stream",
     "text": [
      "accuracy： 0.8501636711753443\n",
      "accuracy： 0.8418257056389352\n",
      "accuracy： 0.8136001482304984\n",
      "accuracy： 0.8417639429312581\n"
     ]
    }
   ],
   "source": [
    "models = [LogisticRegression(), RandomForestClassifier(), DecisionTreeClassifier(), MLPClassifier()]\n",
    "\n",
    "for model in models:\n",
    "    model.fit(X_train, Y_train.values.reshape(-1,))\n",
    "    Y_pred = model.predict(X_test)\n",
    "    print('accuracy：', accuracy_score(Y_pred, Y_test.values))"
   ]
  }
 ],
 "metadata": {
  "kernelspec": {
   "display_name": "Python 3",
   "language": "python",
   "name": "python3"
  },
  "language_info": {
   "codemirror_mode": {
    "name": "ipython",
    "version": 3
   },
   "file_extension": ".py",
   "mimetype": "text/x-python",
   "name": "python",
   "nbconvert_exporter": "python",
   "pygments_lexer": "ipython3",
   "version": "3.7.0"
  }
 },
 "nbformat": 4,
 "nbformat_minor": 2
}
